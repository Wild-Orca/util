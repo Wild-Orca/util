{
 "cells": [
  {
   "cell_type": "markdown",
   "id": "8c2a85cd-598f-4922-b1fe-9c3baa007619",
   "metadata": {},
   "source": [
    "<h4>Useful Linux Commands</h4>"
   ]
  },
  {
   "cell_type": "markdown",
   "id": "49606b5c-f0c6-4419-beac-e2fb40c1863f",
   "metadata": {},
   "source": [
    "Lists files and directories in the current directory\n",
    "\n",
    "$ ls"
   ]
  },
  {
   "cell_type": "markdown",
   "id": "94be1821-f56c-40b9-bae9-a1c26bfa6eed",
   "metadata": {},
   "source": [
    "Changes the current directory\n",
    "\n",
    "$ cd"
   ]
  },
  {
   "cell_type": "markdown",
   "id": "93a6694b-13a4-4c6a-965b-64ad93b231b5",
   "metadata": {},
   "source": [
    "Displays the current working directory\n",
    "\n",
    "$ pwd"
   ]
  },
  {
   "cell_type": "markdown",
   "id": "ca9ce1a4-68d0-4df5-bf26-267c5ade09fa",
   "metadata": {},
   "source": [
    "Copies files or directories\n",
    "\n",
    "$ cp"
   ]
  },
  {
   "cell_type": "markdown",
   "id": "3d5d3c03-02fa-4dad-ae24-af1a6cef557c",
   "metadata": {},
   "source": [
    "Moves or renames files or directories\n",
    "\n",
    "$ mv"
   ]
  },
  {
   "cell_type": "markdown",
   "id": "81474cd5-8870-49c2-9d07-eda15422ea59",
   "metadata": {},
   "source": [
    "Removes files or directories\n",
    "\n",
    "$ rm"
   ]
  },
  {
   "cell_type": "markdown",
   "id": "7cfa7d25-2a6c-445d-9ddb-09422a35ae2b",
   "metadata": {},
   "source": [
    "Creates a new directory\n",
    "\n",
    "$ mkdir"
   ]
  },
  {
   "cell_type": "markdown",
   "id": "5ddd3fec-3259-4d08-979d-221473aca59c",
   "metadata": {},
   "source": [
    "Removes empty directories\n",
    "\n",
    "$ rmdir"
   ]
  },
  {
   "cell_type": "markdown",
   "id": "d31cb7e2-c287-4dba-b098-86b8ddde4495",
   "metadata": {},
   "source": [
    "Creates an empty file or updates the timestamp of an existing file\n",
    "\n",
    "$ touch"
   ]
  },
  {
   "cell_type": "markdown",
   "id": "34794455-6830-4021-b405-8d35c5a0422e",
   "metadata": {},
   "source": [
    "Concatenates and displays the contents of a file\n",
    "\n",
    "$ cat"
   ]
  },
  {
   "cell_type": "markdown",
   "id": "5cc35355-0fca-4555-813d-92503645f844",
   "metadata": {},
   "source": [
    "Displays a line of text or variable value\n",
    "\n",
    "$ echo"
   ]
  },
  {
   "cell_type": "markdown",
   "id": "f4416c81-8bca-41fd-a44b-348ca72f6114",
   "metadata": {},
   "source": [
    "Searches for a specified pattern within files\n",
    "\n",
    "$ grep"
   ]
  },
  {
   "cell_type": "markdown",
   "id": "0f39efc2-616e-4526-865b-bb7cbc443ee9",
   "metadata": {},
   "source": [
    "Searches for files or directories based on specific criteria\n",
    "\n",
    "$ find"
   ]
  },
  {
   "cell_type": "markdown",
   "id": "bf013e32-baaf-4bdd-a227-feb1127d0c68",
   "metadata": {},
   "source": [
    "Changes file or directory permissions\n",
    "\n",
    "$ chmod"
   ]
  },
  {
   "cell_type": "markdown",
   "id": "87368329-3606-4886-85f0-9fef9329b33d",
   "metadata": {},
   "source": [
    "Changes the ownership of a file or directory\n",
    "\n",
    "$ chown"
   ]
  },
  {
   "cell_type": "markdown",
   "id": "23db0d57-f1a8-471b-9c8d-5e7dcf6ce804",
   "metadata": {},
   "source": [
    "Displays the currently running processes\n",
    "\n",
    "$ ps"
   ]
  },
  {
   "cell_type": "markdown",
   "id": "5eaba11b-9bea-4897-a2e0-e7ad0137524e",
   "metadata": {},
   "source": [
    "Terminates a process by its process ID\n",
    "\n",
    "$ kill"
   ]
  },
  {
   "cell_type": "markdown",
   "id": "f0ba1ebb-d8dd-4b71-8e4a-aaa3c01a79a6",
   "metadata": {},
   "source": [
    "Shows real-time system resource usage\n",
    "\n",
    "$ top"
   ]
  },
  {
   "cell_type": "markdown",
   "id": "ef78a63b-cf46-43e0-915d-aef354c803cc",
   "metadata": {},
   "source": [
    "Shows disk space usage of file systems\n",
    "\n",
    "$ df"
   ]
  },
  {
   "cell_type": "markdown",
   "id": "289a3668-3ec8-4fac-905c-173b1d7c9372",
   "metadata": {},
   "source": [
    "Displays the size of a file or directory\n",
    "\n",
    "$ du"
   ]
  },
  {
   "cell_type": "markdown",
   "id": "0c3343d4-db02-45f8-95fe-ce37fa2eccce",
   "metadata": {},
   "source": [
    "Archives multiple files into a single file\n",
    "\n",
    "$ tar"
   ]
  },
  {
   "cell_type": "markdown",
   "id": "4710b0e9-6074-4c59-9e8f-063f12877769",
   "metadata": {},
   "source": [
    "Extracts files from a compressed ZIP archive\n",
    "\n",
    "$ unzip"
   ]
  },
  {
   "cell_type": "markdown",
   "id": "c18cec3a-908b-4397-abaa-2ce60200f94b",
   "metadata": {},
   "source": [
    "Connects to a remote machine securely\n",
    "\n",
    "$ ssh"
   ]
  },
  {
   "cell_type": "markdown",
   "id": "3a153674-e7a7-40ba-a11c-9740becb370d",
   "metadata": {},
   "source": [
    "Copies files between hosts on a network\n",
    "\n",
    "$ scp"
   ]
  },
  {
   "cell_type": "markdown",
   "id": "1b3d8e34-4119-4ad7-99be-7d64fc73390e",
   "metadata": {},
   "source": [
    "Checks connectivity to another networked device\n",
    "\n",
    "$ ping"
   ]
  },
  {
   "cell_type": "markdown",
   "id": "72121b18-b34f-4c82-a2ef-1a0f1d05425f",
   "metadata": {},
   "source": [
    "Transfers data from or to a server\n",
    "\n",
    "$ curl"
   ]
  },
  {
   "cell_type": "markdown",
   "id": "21cb9576-06c8-4696-b30d-8c72b7d5d34e",
   "metadata": {},
   "source": [
    "Downloads files from the internet\n",
    "\n",
    "$ wget"
   ]
  },
  {
   "cell_type": "markdown",
   "id": "272ed115-09a4-484a-b86d-663909f69585",
   "metadata": {},
   "source": [
    "Installs, updates, and removes packages on Debian-based systems\n",
    "\n",
    "$ apt-get"
   ]
  },
  {
   "cell_type": "markdown",
   "id": "1812b369-14fa-4056-801b-0de763cfd5e6",
   "metadata": {},
   "source": [
    "Manages packages on RPM-based systems\n",
    "\n",
    "$ yum"
   ]
  },
  {
   "cell_type": "markdown",
   "id": "8985bba1-592c-4afa-a686-e29819f89b4e",
   "metadata": {},
   "source": [
    "Executes commands with superuser privileges\n",
    "\n",
    "$ sudo"
   ]
  },
  {
   "cell_type": "markdown",
   "id": "8b236764-f89f-444f-aa6b-6a3f3c1673e5",
   "metadata": {},
   "source": [
    "Opens a simple text editor\n",
    "\n",
    "$ nano"
   ]
  },
  {
   "cell_type": "markdown",
   "id": "f56776f0-6a6f-4d79-9827-d3e53c8f507e",
   "metadata": {},
   "source": [
    "Opens an advanced text editor\n",
    "\n",
    "$ vim"
   ]
  },
  {
   "cell_type": "markdown",
   "id": "1e123774-a529-46ab-9a23-c0240a25b9fd",
   "metadata": {},
   "source": [
    "Displays the command history list\n",
    "\n",
    "$ history"
   ]
  },
  {
   "cell_type": "markdown",
   "id": "4dcdd444-57b0-4f19-8e7a-885b08cfa780",
   "metadata": {},
   "source": [
    "Shows the manual for a command\n",
    "\n",
    "$ man"
   ]
  },
  {
   "cell_type": "markdown",
   "id": "540ccd75-f512-4ae4-9bd4-d95dc0fe5bd9",
   "metadata": {},
   "source": [
    "Creates shortcuts for commands\n",
    "\n",
    "$ alias"
   ]
  },
  {
   "cell_type": "markdown",
   "id": "10f92f9d-de2c-4eb7-80d0-beeb260d222e",
   "metadata": {},
   "source": [
    "Manages disk partitions interactively\n",
    "\n",
    "$ fdisk"
   ]
  }
 ],
 "metadata": {
  "kernelspec": {
   "display_name": "Python 3 (ipykernel)",
   "language": "python",
   "name": "python3"
  },
  "language_info": {
   "codemirror_mode": {
    "name": "ipython",
    "version": 3
   },
   "file_extension": ".py",
   "mimetype": "text/x-python",
   "name": "python",
   "nbconvert_exporter": "python",
   "pygments_lexer": "ipython3",
   "version": "3.12.4"
  }
 },
 "nbformat": 4,
 "nbformat_minor": 5
}
