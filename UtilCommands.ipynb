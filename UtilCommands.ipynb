{
 "cells": [
  {
   "cell_type": "markdown",
   "id": "8c2a85cd-598f-4922-b1fe-9c3baa007619",
   "metadata": {},
   "source": [
    "<h4>Useful Linux Commands</h4>"
   ]
  },
  {
   "cell_type": "markdown",
   "id": "49606b5c-f0c6-4419-beac-e2fb40c1863f",
   "metadata": {},
   "source": [
    "<strong>Lists files and directories in the current directory</strong>\n",
    "\n",
    "$ ls"
   ]
  },
  {
   "cell_type": "markdown",
   "id": "94be1821-f56c-40b9-bae9-a1c26bfa6eed",
   "metadata": {},
   "source": [
    "<strong>Changes the current directory</strong>\n",
    "\n",
    "$ cd"
   ]
  },
  {
   "cell_type": "markdown",
   "id": "93a6694b-13a4-4c6a-965b-64ad93b231b5",
   "metadata": {},
   "source": [
    "<strong>Displays the current working directory</strong>\n",
    "\n",
    "$ pwd"
   ]
  },
  {
   "cell_type": "markdown",
   "id": "ca9ce1a4-68d0-4df5-bf26-267c5ade09fa",
   "metadata": {},
   "source": [
    "<strong>Copies files or directories</strong>\n",
    "\n",
    "$ cp"
   ]
  },
  {
   "cell_type": "markdown",
   "id": "3d5d3c03-02fa-4dad-ae24-af1a6cef557c",
   "metadata": {},
   "source": [
    "<strong>Moves or renames files or directories</strong>\n",
    "\n",
    "$ mv"
   ]
  },
  {
   "cell_type": "markdown",
   "id": "81474cd5-8870-49c2-9d07-eda15422ea59",
   "metadata": {},
   "source": [
    "<strong>Removes files or directories</strong>\n",
    "\n",
    "$ rm"
   ]
  },
  {
   "cell_type": "markdown",
   "id": "7cfa7d25-2a6c-445d-9ddb-09422a35ae2b",
   "metadata": {},
   "source": [
    "<strong>Creates a new directory</strong>\n",
    "\n",
    "$ mkdir"
   ]
  },
  {
   "cell_type": "markdown",
   "id": "5ddd3fec-3259-4d08-979d-221473aca59c",
   "metadata": {},
   "source": [
    "<strong>Removes empty directories</strong>\n",
    "\n",
    "$ rmdir"
   ]
  },
  {
   "cell_type": "markdown",
   "id": "d31cb7e2-c287-4dba-b098-86b8ddde4495",
   "metadata": {},
   "source": [
    "<strong>Creates an empty file or updates the timestamp of an existing file</strong>\n",
    "\n",
    "$ touch"
   ]
  },
  {
   "cell_type": "markdown",
   "id": "34794455-6830-4021-b405-8d35c5a0422e",
   "metadata": {},
   "source": [
    "<strong>Concatenates and displays the contents of a file</strong>\n",
    "\n",
    "$ cat"
   ]
  },
  {
   "cell_type": "markdown",
   "id": "5cc35355-0fca-4555-813d-92503645f844",
   "metadata": {},
   "source": [
    "<strong>Displays a line of text or variable value</strong>\n",
    "\n",
    "$ echo"
   ]
  },
  {
   "cell_type": "markdown",
   "id": "f4416c81-8bca-41fd-a44b-348ca72f6114",
   "metadata": {},
   "source": [
    "<strong>Searches for a specified pattern within files</strong>\n",
    "\n",
    "$ grep"
   ]
  },
  {
   "cell_type": "markdown",
   "id": "0f39efc2-616e-4526-865b-bb7cbc443ee9",
   "metadata": {},
   "source": [
    "<strong>Searches for files or directories based on specific criteria</strong>\n",
    "\n",
    "$ find"
   ]
  },
  {
   "cell_type": "markdown",
   "id": "bf013e32-baaf-4bdd-a227-feb1127d0c68",
   "metadata": {},
   "source": [
    "<strong>Changes file or directory permissions</strong>\n",
    "\n",
    "$ chmod"
   ]
  },
  {
   "cell_type": "markdown",
   "id": "87368329-3606-4886-85f0-9fef9329b33d",
   "metadata": {},
   "source": [
    "<strong>Changes the ownership of a file or directory</strong>\n",
    "\n",
    "$ chown"
   ]
  },
  {
   "cell_type": "markdown",
   "id": "23db0d57-f1a8-471b-9c8d-5e7dcf6ce804",
   "metadata": {},
   "source": [
    "<strong>Displays the currently running processes</strong>\n",
    "\n",
    "$ ps"
   ]
  },
  {
   "cell_type": "markdown",
   "id": "5eaba11b-9bea-4897-a2e0-e7ad0137524e",
   "metadata": {},
   "source": [
    "<strong>Terminates a process by its process ID</strong>\n",
    "\n",
    "$ kill"
   ]
  },
  {
   "cell_type": "markdown",
   "id": "f0ba1ebb-d8dd-4b71-8e4a-aaa3c01a79a6",
   "metadata": {},
   "source": [
    "<strong>Shows real-time system resource usage</strong>\n",
    "\n",
    "$ top"
   ]
  },
  {
   "cell_type": "markdown",
   "id": "ef78a63b-cf46-43e0-915d-aef354c803cc",
   "metadata": {},
   "source": [
    "<strong>Shows disk space usage of file systems</strong>\n",
    "\n",
    "$ df"
   ]
  },
  {
   "cell_type": "markdown",
   "id": "289a3668-3ec8-4fac-905c-173b1d7c9372",
   "metadata": {},
   "source": [
    "<strong>Displays the size of a file or directory</strong>\n",
    "\n",
    "$ du"
   ]
  },
  {
   "cell_type": "markdown",
   "id": "0c3343d4-db02-45f8-95fe-ce37fa2eccce",
   "metadata": {},
   "source": [
    "<strong>Archives multiple files into a single file</strong>\n",
    "\n",
    "$ tar"
   ]
  },
  {
   "cell_type": "markdown",
   "id": "4710b0e9-6074-4c59-9e8f-063f12877769",
   "metadata": {},
   "source": [
    "<strong>Extracts files from a compressed ZIP archive</strong>\n",
    "\n",
    "$ unzip"
   ]
  },
  {
   "cell_type": "markdown",
   "id": "c18cec3a-908b-4397-abaa-2ce60200f94b",
   "metadata": {},
   "source": [
    "<strong>Connects to a remote machine securely</strong>\n",
    "\n",
    "$ ssh"
   ]
  },
  {
   "cell_type": "markdown",
   "id": "3a153674-e7a7-40ba-a11c-9740becb370d",
   "metadata": {},
   "source": [
    "<strong>Copies files between hosts on a network</strong>\n",
    "\n",
    "$ scp"
   ]
  },
  {
   "cell_type": "markdown",
   "id": "1b3d8e34-4119-4ad7-99be-7d64fc73390e",
   "metadata": {},
   "source": [
    "<strong>Checks connectivity to another networked device</strong>\n",
    "\n",
    "$ ping"
   ]
  },
  {
   "cell_type": "markdown",
   "id": "72121b18-b34f-4c82-a2ef-1a0f1d05425f",
   "metadata": {},
   "source": [
    "<strong>Transfers data from or to a server</strong>\n",
    "\n",
    "$ curl"
   ]
  },
  {
   "cell_type": "markdown",
   "id": "21cb9576-06c8-4696-b30d-8c72b7d5d34e",
   "metadata": {},
   "source": [
    "<strong>Downloads files from the internet</strong>\n",
    "\n",
    "$ wget"
   ]
  },
  {
   "cell_type": "markdown",
   "id": "272ed115-09a4-484a-b86d-663909f69585",
   "metadata": {},
   "source": [
    "<strong>Installs, updates, and removes packages on Debian-based systems</strong>\n",
    "\n",
    "$ apt-get"
   ]
  },
  {
   "cell_type": "markdown",
   "id": "1812b369-14fa-4056-801b-0de763cfd5e6",
   "metadata": {},
   "source": [
    "<strong>Manages packages on RPM-based systems</strong>\n",
    "\n",
    "$ yum"
   ]
  },
  {
   "cell_type": "markdown",
   "id": "8985bba1-592c-4afa-a686-e29819f89b4e",
   "metadata": {},
   "source": [
    "<strong>Executes commands with superuser privileges</strong>\n",
    "\n",
    "$ sudo"
   ]
  },
  {
   "cell_type": "markdown",
   "id": "8b236764-f89f-444f-aa6b-6a3f3c1673e5",
   "metadata": {},
   "source": [
    "<strong>Opens a simple text editor</strong>\n",
    "\n",
    "$ nano"
   ]
  },
  {
   "cell_type": "markdown",
   "id": "f56776f0-6a6f-4d79-9827-d3e53c8f507e",
   "metadata": {},
   "source": [
    "<strong>Opens an advanced text editor</strong>\n",
    "\n",
    "$ vim"
   ]
  },
  {
   "cell_type": "markdown",
   "id": "1e123774-a529-46ab-9a23-c0240a25b9fd",
   "metadata": {},
   "source": [
    "<strong>Displays the command history list</strong>\n",
    "\n",
    "$ history"
   ]
  },
  {
   "cell_type": "markdown",
   "id": "4dcdd444-57b0-4f19-8e7a-885b08cfa780",
   "metadata": {},
   "source": [
    "<strong>Shows the manual for a command</strong>\n",
    "\n",
    "$ man"
   ]
  },
  {
   "cell_type": "markdown",
   "id": "540ccd75-f512-4ae4-9bd4-d95dc0fe5bd9",
   "metadata": {},
   "source": [
    "<strong>Creates shortcuts for commands</strong>\n",
    "\n",
    "$ alias"
   ]
  },
  {
   "cell_type": "markdown",
   "id": "10f92f9d-de2c-4eb7-80d0-beeb260d222e",
   "metadata": {},
   "source": [
    "<strong>Manages disk partitions interactively</strong>\n",
    "\n",
    "$ fdisk"
   ]
  }
 ],
 "metadata": {
  "kernelspec": {
   "display_name": "Python 3 (ipykernel)",
   "language": "python",
   "name": "python3"
  },
  "language_info": {
   "codemirror_mode": {
    "name": "ipython",
    "version": 3
   },
   "file_extension": ".py",
   "mimetype": "text/x-python",
   "name": "python",
   "nbconvert_exporter": "python",
   "pygments_lexer": "ipython3",
   "version": "3.9.12"
  }
 },
 "nbformat": 4,
 "nbformat_minor": 5
}
